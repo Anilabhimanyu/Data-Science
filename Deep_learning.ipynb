{
  "nbformat": 4,
  "nbformat_minor": 0,
  "metadata": {
    "colab": {
      "provenance": [],
      "authorship_tag": "ABX9TyOkBXzVH6YIB6BznnBIbXmP",
      "include_colab_link": true
    },
    "kernelspec": {
      "name": "python3",
      "display_name": "Python 3"
    },
    "language_info": {
      "name": "python"
    }
  },
  "cells": [
    {
      "cell_type": "markdown",
      "metadata": {
        "id": "view-in-github",
        "colab_type": "text"
      },
      "source": [
        "<a href=\"https://colab.research.google.com/github/Anilabhimanyu/Data-Science/blob/main/Deep_learning.ipynb\" target=\"_parent\"><img src=\"https://colab.research.google.com/assets/colab-badge.svg\" alt=\"Open In Colab\"/></a>"
      ]
    },
    {
      "cell_type": "code",
      "execution_count": null,
      "metadata": {
        "id": "6zWGucd5poxt"
      },
      "outputs": [],
      "source": [
        "# Models can be either image, text or voice\n",
        "preprocessing\n",
        "1. Text vectorization\n",
        "2. Normalization"
      ]
    },
    {
      "cell_type": "code",
      "source": [
        "# Hyperparamers vs parameters\n",
        "\n",
        "parameters are taken from the data while hyperparameters are manually taken by rule of thumb\n",
        "parameters ex:\n",
        "  The weights in an artificial neural network.\n",
        "  The support vectors in a support vector machine.\n",
        "  The coefficients in a linear regression or logistic regression.\n",
        "Hyperparameters\n",
        "  If you have to specify a model parameter manually then it is probably a model hyperparameter.\n",
        "  learning rate\n",
        "  k in knn\n",
        "  c and sigma in support vectors"
      ],
      "metadata": {
        "id": "8TWyokKBqDBf"
      },
      "execution_count": null,
      "outputs": []
    },
    {
      "cell_type": "code",
      "source": [
        "# Types of hyperparameters\n",
        "MODEL hyperparameters\n",
        "1. no of layers\n",
        "2. no of neurons\n",
        "\n",
        "Algorithm hyperparameters\n",
        "1. Activation function\n",
        "2. Learning rate\n",
        "3. Dropout Rate\n",
        "4. Loss function\n",
        "5. metrics\n",
        "6. optimizer\n",
        "7. epochs\n",
        "8. Batch size\n",
        "9. momentum\n",
        "10.\n"
      ],
      "metadata": {
        "id": "TeTlenphs4S0"
      },
      "execution_count": null,
      "outputs": []
    },
    {
      "cell_type": "code",
      "source": [
        "# Activation Functions\n",
        "1. AKA transfer function\n",
        "2. function used to get the o/p of node.\n",
        "\n",
        "## Types\n",
        "1. Linear Activation Functions\n",
        "2. Non-Linear Activation Functions\n",
        "\n",
        "## Linear Activation Function\n",
        "f(x)=x  no change in values\n",
        "\n",
        "## Non Linear Activation Function\n",
        "1. sigmoid\n",
        "2. Tanh\n",
        "3. relu\n",
        "4. leakey relu\n",
        "5. randomized relu\n",
        "6. softmax\n",
        "7. softplus"
      ],
      "metadata": {
        "id": "liUZ0KZBs4c9"
      },
      "execution_count": null,
      "outputs": []
    },
    {
      "cell_type": "markdown",
      "source": [
        "### Derivative and monotonic function\n",
        "### https://colab.research.google.com/drive/1u7Ea3qErpEyXcEqtMFB-MgNoBiVGZBc1#scrollTo=yLIf3iNyx_54&line=1&uniqifier=1"
      ],
      "metadata": {
        "id": "bzldcPcKs4kZ"
      }
    },
    {
      "cell_type": "code",
      "source": [
        "# Loss Functions\n",
        "1. Regression\n",
        "  1.MSE\n",
        "  2.MAE\n",
        "  3.HUBBER LOSS\n",
        "\n",
        "2.classification\n",
        "  1.Binary Cross Entropy\n",
        "  2.Categorical cross entropy  (one hot encoding)\n",
        "  3.Sparse categorical cross entropy   (categorical like 1234)\n",
        "\n",
        "3.Auto Encoder\n",
        "  1. KL Divergence\n",
        "\n",
        "4.GAN\n",
        "  1.Discriminator Loss\n",
        "  2.Minmax GAN loss\n",
        "\n",
        "5. object Detection\n",
        "  1.Focal loss\n",
        "\n",
        "6. Word Embeddings\n",
        "  1.Triplet loss"
      ],
      "metadata": {
        "id": "j6rUS-AVv5nF"
      },
      "execution_count": null,
      "outputs": []
    },
    {
      "cell_type": "code",
      "source": [],
      "metadata": {
        "id": "UvBTTM1jjpnD"
      },
      "execution_count": null,
      "outputs": []
    },
    {
      "cell_type": "code",
      "source": [],
      "metadata": {
        "id": "u9x0RaL2jpuC"
      },
      "execution_count": null,
      "outputs": []
    },
    {
      "cell_type": "code",
      "source": [],
      "metadata": {
        "id": "HA6nn5wRjp1u"
      },
      "execution_count": null,
      "outputs": []
    },
    {
      "cell_type": "code",
      "source": [],
      "metadata": {
        "id": "dWKFK9T9jp8g"
      },
      "execution_count": null,
      "outputs": []
    },
    {
      "cell_type": "code",
      "source": [],
      "metadata": {
        "id": "XrK1k112jqD6"
      },
      "execution_count": null,
      "outputs": []
    }
  ]
}