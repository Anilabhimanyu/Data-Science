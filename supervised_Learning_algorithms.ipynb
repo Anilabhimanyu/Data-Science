{
  "nbformat": 4,
  "nbformat_minor": 0,
  "metadata": {
    "colab": {
      "provenance": [],
      "authorship_tag": "ABX9TyOmDeCQeJYWfroH9jn4rcC2",
      "include_colab_link": true
    },
    "kernelspec": {
      "name": "python3",
      "display_name": "Python 3"
    },
    "language_info": {
      "name": "python"
    }
  },
  "cells": [
    {
      "cell_type": "markdown",
      "metadata": {
        "id": "view-in-github",
        "colab_type": "text"
      },
      "source": [
        "<a href=\"https://colab.research.google.com/github/Anilabhimanyu/Data-Science/blob/main/supervised_Learning_algorithms.ipynb\" target=\"_parent\"><img src=\"https://colab.research.google.com/assets/colab-badge.svg\" alt=\"Open In Colab\"/></a>"
      ]
    },
    {
      "cell_type": "code",
      "execution_count": null,
      "metadata": {
        "id": "n7ICxJthc4mq"
      },
      "outputs": [],
      "source": [
        "# Supervised Learning\n",
        "# --> uses a training set to teach models to yield the desired output\n",
        "# --> training datasets consists both inputs and outputs, which allow the model to learn over time.\n",
        "# --> Algorithm measures its accuracy through the loss function, adjusting until the error has been sufficiently minimized"
      ]
    },
    {
      "cell_type": "code",
      "source": [
        "# Supervised learning can be seperated into two types of problems,\n",
        "#   1. Classification\n",
        "#   2. Regression"
      ],
      "metadata": {
        "id": "_CHWfJfQd2bn"
      },
      "execution_count": null,
      "outputs": []
    },
    {
      "cell_type": "code",
      "source": [
        "# --> classification uses an algorithms to accurately assign the test data into specific categories\n",
        "# --> it recognizes the specific entities within the dataset and attempts to draw conclusions on how those entities should be labeled or defined.\n",
        "# --> some common classification algorithms are\n",
        "#   1. linear classifiers (Logistic Regression)\n",
        "#   2. Support Vector Machine\n",
        "#   3. decision trees\n",
        "#   4. Random forest\n",
        "#   5. K-Nearest Neighbors"
      ],
      "metadata": {
        "id": "0AV-BCZmeKEB"
      },
      "execution_count": null,
      "outputs": []
    },
    {
      "cell_type": "code",
      "source": [
        "# --> Regression is used to find the relationship between dependent and independent variables.\n",
        "# --> It is commonly used to make projections, such as for sales revenue for a given business.\n",
        "# --> Some common regression algorithms are\n",
        "#     1. Linear Regression\n",
        "#     2. polynomial regression"
      ],
      "metadata": {
        "id": "Vai1sGB6frYK"
      },
      "execution_count": null,
      "outputs": []
    },
    {
      "cell_type": "code",
      "source": [
        "# Neural Networks\n",
        "# --> leveraged for deep learning algorithms\n",
        "# --> neural networks process training data by mimiking the human brain through layers of nodes.\n",
        "# --> Each node is made up of inputs, weights, bias(or threshold) and an output\n",
        "# --> if that output value exceeds the threshold, then 'fires' or activates the node, passing data to the next node.\n",
        "# --> neural n/w's' learn this mapping fns throught the process of gradient descent.\n",
        "# --> when the loss function is at or near zero, then the models accuracy to yield the correct answer."
      ],
      "metadata": {
        "id": "Lb9YTMTFjarV"
      },
      "execution_count": null,
      "outputs": []
    },
    {
      "cell_type": "code",
      "source": [
        "# Naive Bayes\n",
        "# --> classification approach that adopts the principle of class conditional independence from the bayes theorem\n",
        "# --> i.e, presence of one feature doesn't' affects the other feature in the probability of a given outcome and \n",
        "#     each predictor has an equal impact on that result.\n",
        "# --> There are mainly three types of naive bayes classifiers:\n",
        "#     1. Multinomial Naive Bayes\n",
        "#     2. Bernoulli Naive bayes\n",
        "#     3. Gaussian Naive Bayes\n",
        "# --> usages: \n",
        "#     1. spam detection\n",
        "#     2. text classification\n",
        "#     3. recommendation systems"
      ],
      "metadata": {
        "id": "KYFlvOQsLwB6"
      },
      "execution_count": null,
      "outputs": []
    },
    {
      "cell_type": "code",
      "source": [
        "# Linear Regression\n",
        "# --> used to find the relationship between a dependent variable and one or more independent variables and\n",
        "#     is typically leveraged to make predictions about future outcomes.\n",
        "# --> if there is only one independent and dependent variable, then it is termed as Simple Linear Regression\n",
        "# --> if there are more independent features then its called as Multiple Linear Regression\n",
        "# --> For each type of linear regression, it seeks to plot a line of best fit, which is calculated through least squares.\n",
        "# --> compared to other regressions, this line is straight when plotted in graph"
      ],
      "metadata": {
        "id": "UZf0WTCGNZI_"
      },
      "execution_count": null,
      "outputs": []
    },
    {
      "cell_type": "code",
      "source": [
        "# Logistic Regression\n",
        "# --> linear regression for continuos values, while logistic for classification problems i.e, when dependent variable is categorical.\n",
        "# --> Both regression models seek to understand the relationships between data inputs.\n",
        "# --> Logistic regression is mainly used for binary classification\n",
        "# --> Spam Detection"
      ],
      "metadata": {
        "id": "29O-PQO-O1mo"
      },
      "execution_count": null,
      "outputs": []
    },
    {
      "cell_type": "code",
      "source": [
        "# Support Vector Machine\n",
        "# --> popular SL model, developed by vladimir vapnik\n",
        "# --> used for both classification and regression\n",
        "# --> But mostly used for classification problems\n",
        "# --> it creates the hyperplane, where the distance between two classes of data points at maximum.\n",
        "# --> This hyperplane is aka Decision Boundary, seperating the classes of data points on either side of plane."
      ],
      "metadata": {
        "id": "SCL40XaHPgru"
      },
      "execution_count": null,
      "outputs": []
    },
    {
      "cell_type": "code",
      "source": [
        "# K Nearest Neighbors\n",
        "# --> aka KNN algorithm\n",
        "# --> non parametric algorithm\n",
        "# --> classifies data based on their proximity(saamepyata in telugu) and association to other available data.\n",
        "# --> this assumes simila data points can be found near each other.\n",
        "# --> For this, it calculates the distance between data points, usually throught the euclidean distance,\n",
        "#     and then it assigns a category on the most frequent category or average.\n",
        "# --> It's' ease of use and low calculation time make it a preferred algorithm, \n",
        "# --> but as a test dataset increases, the processing time lengthens, making it less appealing for classification tasks\n",
        "# --> usages:\n",
        "#     1. Recommendation Systems\n",
        "#     2. image recognition"
      ],
      "metadata": {
        "id": "HIrS2SbeQpBT"
      },
      "execution_count": null,
      "outputs": []
    },
    {
      "cell_type": "code",
      "source": [
        "# Random Forest:\n",
        "# --> flexible supervised ml algorithm\n",
        "# --> used for both classification and regression purposes.\n",
        "# --> forest references a collection of uncorrelated decision trees, which are then merged together to reduce variance and create more accurate data points."
      ],
      "metadata": {
        "id": "FRMAE5OqThPA"
      },
      "execution_count": null,
      "outputs": []
    },
    {
      "cell_type": "code",
      "source": [
        "# Applications\n",
        "# 1. image and object recognition--sl algos used to locate, isolate and categorize when applied to cv techniques\n",
        "# 2. predictive analysis\n",
        "# 3. customer Sentiment analysis\n",
        "# 4. spam detection\n"
      ],
      "metadata": {
        "id": "rXMLTENoUbjC"
      },
      "execution_count": null,
      "outputs": []
    },
    {
      "cell_type": "code",
      "source": [
        "# challenges of supervised learning:\n",
        "#  Even there is deep business insights and improved automation, there are some challenges when building sustainable SL models.\n",
        "#  these are\n",
        "#   1. require certain levels of expertize to structure accurately\n",
        "#   2. Training supervised learning models can be very time intensive.\n",
        "#   3. Datasets can have a higher likelihood of human error,\n",
        "#   4. SL algos can't' cluster or classify data on its own.\n"
      ],
      "metadata": {
        "id": "NGXrCdNQVMM5"
      },
      "execution_count": null,
      "outputs": []
    }
  ]
}