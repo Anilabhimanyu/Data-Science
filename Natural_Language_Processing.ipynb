{
  "nbformat": 4,
  "nbformat_minor": 0,
  "metadata": {
    "colab": {
      "provenance": [],
      "authorship_tag": "ABX9TyONhilqbAH74mgKM/Vg3K+G",
      "include_colab_link": true
    },
    "kernelspec": {
      "name": "python3",
      "display_name": "Python 3"
    },
    "language_info": {
      "name": "python"
    }
  },
  "cells": [
    {
      "cell_type": "markdown",
      "metadata": {
        "id": "view-in-github",
        "colab_type": "text"
      },
      "source": [
        "<a href=\"https://colab.research.google.com/github/Anilabhimanyu/Data-Science/blob/main/Natural_Language_Processing.ipynb\" target=\"_parent\"><img src=\"https://colab.research.google.com/assets/colab-badge.svg\" alt=\"Open In Colab\"/></a>"
      ]
    },
    {
      "cell_type": "code",
      "execution_count": null,
      "metadata": {
        "id": "MnpzXcry8tIo"
      },
      "outputs": [],
      "source": [
        "1. Accessing Data\n",
        "--------------------------------------------\n",
        "1.1 from clients\n",
        "1.1.1 cloud\n",
        "1.1.2 big data hadoop\n",
        "1.1.3 databases\n",
        "1.1.4 local files\n",
        "\n",
        "--------------------------------------------\n",
        "1.2 from open source (internet)\n",
        "1.2.1 api calling\n",
        "1.2.2 gov websites\n",
        "\n",
        "--------------------------------------------\n",
        "1.3 from web scraping\n",
        "1.3.1 following terms and conditions we can access data from web services\n"
      ]
    }
  ]
}