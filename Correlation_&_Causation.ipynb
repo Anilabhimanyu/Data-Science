{
  "nbformat": 4,
  "nbformat_minor": 0,
  "metadata": {
    "colab": {
      "provenance": [],
      "authorship_tag": "ABX9TyOz3dglkf56xUzDvjFP2H2V",
      "include_colab_link": true
    },
    "kernelspec": {
      "name": "python3",
      "display_name": "Python 3"
    },
    "language_info": {
      "name": "python"
    }
  },
  "cells": [
    {
      "cell_type": "markdown",
      "metadata": {
        "id": "view-in-github",
        "colab_type": "text"
      },
      "source": [
        "<a href=\"https://colab.research.google.com/github/Anilabhimanyu/Data-Science/blob/main/Correlation_%26_Causation.ipynb\" target=\"_parent\"><img src=\"https://colab.research.google.com/assets/colab-badge.svg\" alt=\"Open In Colab\"/></a>"
      ]
    },
    {
      "cell_type": "markdown",
      "source": [
        "# correlation and causation\n",
        "\n",
        "1. Correlation : there is a statistical association between variables.\n",
        "2. Causation: Change in one varible causes change in another variable\n"
      ],
      "metadata": {
        "id": "KdP1q5VAEVvu"
      }
    },
    {
      "cell_type": "markdown",
      "source": [
        "#### Note: A Correlation doesn't implies causation but causation implies Correlation"
      ],
      "metadata": {
        "id": "W4dCP4osGvu6"
      }
    },
    {
      "cell_type": "markdown",
      "source": [
        "# Why Correlation doesn't always mean Causation\n",
        "\n",
        "1.  There are two main reasons which are Third variable and direction problems\n",
        "\n",
        "2. Third variable problem means the third variable which we didn't focussed is impacting the two variables\n",
        "For example, ice cream sales and violent crime rates are closely correlated, but they are not causally linked with each other. Instead, hot \n",
        "temperatures,a third variable, affects both variables separately. Failing to account for third variables can lead research biases to creep into your work.\n",
        "\n",
        "3. Direction Problem means in which we can't find which variable is impacting other.\n",
        "4. For example, vitamin D levels are correlated with depression, but it’s not clear whether low vitamin D causes depression, or whether depression causes reduced vitamin D intake"
      ],
      "metadata": {
        "id": "JsFbuiCgG6JO"
      }
    },
    {
      "cell_type": "markdown",
      "source": [
        "# Correlational experiments vs Controlled Experiments\n",
        "1. Controlled Experiments establish causality, whereas correlational studies only show associations between variables.\n",
        "  # what is Regression to mean\n",
        "\n",
        "  Regression to mean: when we experiment second time there is no change i.e, it is near to mean or no change\n",
        "  i.e,Regression to the mean is observed when variables that are extremely higher or extremely lower than average on the first measurement move closer to the average on the second measurement.\n",
        "\n",
        "  Regression to the mean occurs when a nonrandom sample is selected from a population and you measure two imperfectly correlated …\n",
        "  Prm = 100(1 – 0.2)\n",
        "  Prm = 100(0.8)\n",
        "  Prm = 80%\n",
        "2. In an experimental design, you manipulate an independent variable and measure its effect on a dependent variable. Other variables are controlled so they can’t impact the results.\n",
        "3. In a correlational design, you measure variables without manipulating any of them. You can test whether your variables change together, but you can’t be sure that one variable caused a change in another."
      ],
      "metadata": {
        "id": "UQBBGbSsIDpF"
      }
    },
    {
      "cell_type": "markdown",
      "source": [
        "  # what is Regression to mean [formula= 100*(1-r) where r is correlation]\n",
        "\n",
        "  Regression to mean: when we experiment second time there is no change i.e, it is near to mean or no change\n",
        "  i.e,Regression to the mean is observed when variables that are extremely higher or extremely lower than average on the first measurement move closer to the average on the second measurement.\n",
        "\n",
        "  Regression to the mean occurs when a nonrandom sample is selected from a population and you measure two imperfectly correlated variables, such as two consecutive blood pressure measurements.\n",
        "\n",
        "  The smaller the correlation between the two variables, the larger the effect of RTM.\n",
        "  The more extreme the value from the population mean, the more room there is to regress to the mean.\n",
        "\n",
        "  Prm = 100(1 – r) wherePrm = percent of regression to the meanr = correlation coefficient\n",
        "\n",
        "  When there is perfect correlation between your variables, then r = 1\n",
        "\n",
        "  Using the formula above, Prm = 100(1 – 1) = 0\n",
        "  In other words, if your variables are perfectly correlated, they will not regress to the mean.\n",
        "  On the contrary, when there is no correlation (r = 0), there is 100% regression to the mean.\n",
        "  When there is imperfect correlation between your variables, then r is between –1 and +1.\n",
        "  If your example r = 0.2, there is 80% regression to the mean:\n",
        "\n",
        "  Prm = 100(1 – 0.2)\n",
        "  Prm = 100(0.8)\n",
        "  Prm = 80%\n",
        "\n",
        "   ## solution \n",
        "   taking the probability sampling\n",
        "   In experimental designs, it is important to use a control group and a treatment group, randomly assigning participants to each one. \n",
        "  \n",
        "  Changes in the control group can help you evaluate the extent of changes caused by regression to the mean, in addition to any placebo effect."
      ],
      "metadata": {
        "id": "o_kQo6ZWID5V"
      }
    },
    {
      "cell_type": "code",
      "source": [],
      "metadata": {
        "id": "GYD0K3usQtuO"
      },
      "execution_count": null,
      "outputs": []
    }
  ]
}