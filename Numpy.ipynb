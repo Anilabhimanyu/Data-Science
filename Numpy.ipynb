{
  "nbformat": 4,
  "nbformat_minor": 0,
  "metadata": {
    "colab": {
      "provenance": [],
      "authorship_tag": "ABX9TyMe9EzDgYh++mkC/GCYm8mn",
      "include_colab_link": true
    },
    "kernelspec": {
      "name": "python3",
      "display_name": "Python 3"
    },
    "language_info": {
      "name": "python"
    }
  },
  "cells": [
    {
      "cell_type": "markdown",
      "metadata": {
        "id": "view-in-github",
        "colab_type": "text"
      },
      "source": [
        "<a href=\"https://colab.research.google.com/github/Anilabhimanyu/Data-Science/blob/main/Numpy.ipynb\" target=\"_parent\"><img src=\"https://colab.research.google.com/assets/colab-badge.svg\" alt=\"Open In Colab\"/></a>"
      ]
    },
    {
      "cell_type": "code",
      "source": [
        "# 1. Import numpy as np and see the version\n",
        "import numpy as np"
      ],
      "metadata": {
        "id": "_gj5YYQ9btmP"
      },
      "execution_count": null,
      "outputs": []
    },
    {
      "cell_type": "code",
      "source": [
        "# 2. How to create a 1D array?\n",
        "arr=np.arange(10)\n",
        "print('2.',arr)"
      ],
      "metadata": {
        "id": "DaEiMt3XbyBo"
      },
      "execution_count": null,
      "outputs": []
    },
    {
      "cell_type": "code",
      "source": [
        "# 3. How to create a boolean array?\n",
        "arr=np.ones((1,5),dtype=bool)\n",
        "arr=np.full((4,4),True)\n",
        "arr=np.zeros((2,3),dtype=int)\n",
        "arr"
      ],
      "metadata": {
        "colab": {
          "base_uri": "https://localhost:8080/"
        },
        "id": "BeN2oTuyb1M7",
        "outputId": "bc733e78-b1bc-47ac-d6b1-597901f3872b"
      },
      "execution_count": null,
      "outputs": [
        {
          "output_type": "execute_result",
          "data": {
            "text/plain": [
              "array([[0, 0, 0],\n",
              "       [0, 0, 0]])"
            ]
          },
          "metadata": {},
          "execution_count": 18
        }
      ]
    },
    {
      "cell_type": "code",
      "source": [
        "# 4. How to extract items that satisfy a given condition from 1D array?\n",
        "arr=np.array([4,5,6,3,4,2,1,5,2])\n",
        "arr[arr<3],arr[arr%3!=0]"
      ],
      "metadata": {
        "colab": {
          "base_uri": "https://localhost:8080/"
        },
        "id": "w4pS8du_XHQl",
        "outputId": "6fe6461d-c889-40f0-9e13-6f1a489c1859"
      },
      "execution_count": null,
      "outputs": [
        {
          "output_type": "execute_result",
          "data": {
            "text/plain": [
              "(array([2, 1, 2]), array([4, 5, 4, 2, 1, 5, 2]))"
            ]
          },
          "metadata": {},
          "execution_count": 25
        }
      ]
    },
    {
      "cell_type": "code",
      "source": [
        "# 5. How to replace items that satisfy a condition with another value in numpy array?\n",
        "arr=np.arange(10)\n",
        "print(arr)\n",
        "arr[arr<5]=333\n",
        "arr"
      ],
      "metadata": {
        "colab": {
          "base_uri": "https://localhost:8080/"
        },
        "id": "optcfJ9Jdm54",
        "outputId": "17d29cbc-47d9-4010-c52d-04415855f21e"
      },
      "execution_count": null,
      "outputs": [
        {
          "output_type": "stream",
          "name": "stdout",
          "text": [
            "[0 1 2 3 4 5 6 7 8 9]\n"
          ]
        },
        {
          "output_type": "execute_result",
          "data": {
            "text/plain": [
              "array([333, 333, 333, 333, 333,   5,   6,   7,   8,   9])"
            ]
          },
          "metadata": {},
          "execution_count": 26
        }
      ]
    },
    {
      "cell_type": "code",
      "source": [
        "# 6. How to replace items that satisfy a condition without affecting the original array?\n",
        "arr=np.arange(10)\n",
        "print(arr)\n",
        "new_arr=np.where(arr%2==0,555,arr)"
      ],
      "metadata": {
        "id": "7nYHSafQekxw"
      },
      "execution_count": null,
      "outputs": []
    },
    {
      "cell_type": "code",
      "source": [
        "# 7. How to reshape an array?\n",
        "b=arr.reshape(5,-1)\n",
        "b"
      ],
      "metadata": {
        "colab": {
          "base_uri": "https://localhost:8080/"
        },
        "id": "tK1eHYpYfb9P",
        "outputId": "22c045e0-48c6-4a57-bdec-85b7cebb65b3"
      },
      "execution_count": null,
      "outputs": [
        {
          "output_type": "execute_result",
          "data": {
            "text/plain": [
              "array([[333, 333],\n",
              "       [333, 333],\n",
              "       [333,   5],\n",
              "       [  6,   7],\n",
              "       [  8,   9]])"
            ]
          },
          "metadata": {},
          "execution_count": 29
        }
      ]
    },
    {
      "cell_type": "code",
      "source": [
        "# 8. How to stack two arrays vertically?\n",
        "arr1=np.array([[3,4,5,6],[7,8,9,2]])\n",
        "arr2=np.array([[1,2,3,4],[5,6,5,4]])\n",
        "# method 1\n",
        "print(np.vstack([arr1.reshape(2,-1),arr2.reshape(2,-1)]))\n",
        "# method 2\n",
        "print(np.r_[arr1,arr2])\n",
        "# method 3 \n",
        "np.concatenate([arr1.reshape(2,-1),arr2.reshape(2,-1)],axis=0)"
      ],
      "metadata": {
        "colab": {
          "base_uri": "https://localhost:8080/"
        },
        "id": "N_j34GQOgJTv",
        "outputId": "988e6ea1-9267-40cf-face-c2a3ccb63757"
      },
      "execution_count": null,
      "outputs": [
        {
          "output_type": "stream",
          "name": "stdout",
          "text": [
            "[[3 4 5 6]\n",
            " [7 8 9 2]\n",
            " [1 2 3 4]\n",
            " [5 6 5 4]]\n",
            "[[3 4 5 6]\n",
            " [7 8 9 2]\n",
            " [1 2 3 4]\n",
            " [5 6 5 4]]\n"
          ]
        },
        {
          "output_type": "execute_result",
          "data": {
            "text/plain": [
              "array([[3, 4, 5, 6],\n",
              "       [7, 8, 9, 2],\n",
              "       [1, 2, 3, 4],\n",
              "       [5, 6, 5, 4]])"
            ]
          },
          "metadata": {},
          "execution_count": 64
        }
      ]
    },
    {
      "cell_type": "code",
      "source": [
        "# 9. How to stack two arrays horizontally?\n",
        "print(np.c_[arr1,arr2])\n",
        "print(np.concatenate([arr1,arr2],axis=1))\n",
        "np.hstack([arr1,arr2])"
      ],
      "metadata": {
        "colab": {
          "base_uri": "https://localhost:8080/"
        },
        "id": "PwlRdHL-abR7",
        "outputId": "ad1b4e95-e5a6-4ea2-83b1-556c7d737ba1"
      },
      "execution_count": null,
      "outputs": [
        {
          "output_type": "stream",
          "name": "stdout",
          "text": [
            "[[3 4 5 6 1 2 3 4]\n",
            " [7 8 9 2 5 6 5 4]]\n",
            "[[3 4 5 6 1 2 3 4]\n",
            " [7 8 9 2 5 6 5 4]]\n"
          ]
        },
        {
          "output_type": "execute_result",
          "data": {
            "text/plain": [
              "array([[3, 4, 5, 6, 1, 2, 3, 4],\n",
              "       [7, 8, 9, 2, 5, 6, 5, 4]])"
            ]
          },
          "metadata": {},
          "execution_count": 67
        }
      ]
    },
    {
      "cell_type": "code",
      "source": [
        "# 10. How to generate custom sequences in numpy without hardcoding?\n",
        "#> array([1, 1, 1, 2, 2, 2, 3, 3, 3, 1, 2, 3, 1, 2, 3, 1, 2, 3])\n",
        "a=np.array([1,2,3])\n",
        "np.hstack([np.repeat(a,3),np.tile(a,3)])"
      ],
      "metadata": {
        "colab": {
          "base_uri": "https://localhost:8080/"
        },
        "id": "SxpAbflCmUvj",
        "outputId": "5511237f-5491-43e5-f8bf-d5bcdb30e953"
      },
      "execution_count": null,
      "outputs": [
        {
          "output_type": "execute_result",
          "data": {
            "text/plain": [
              "array([1, 1, 1, 2, 2, 2, 3, 3, 3, 1, 2, 3, 1, 2, 3, 1, 2, 3])"
            ]
          },
          "metadata": {},
          "execution_count": 82
        }
      ]
    },
    {
      "cell_type": "code",
      "source": [
        "# np.repeat(),np.tile()"
      ],
      "metadata": {
        "id": "k2D4968l1RUF"
      },
      "execution_count": null,
      "outputs": []
    },
    {
      "cell_type": "code",
      "source": [
        "np.repeat(a,3),np.tile(a,3)"
      ],
      "metadata": {
        "colab": {
          "base_uri": "https://localhost:8080/"
        },
        "id": "57Ql_hFqpSu1",
        "outputId": "01b6f11a-c754-45dd-b830-a80799c31a2d"
      },
      "execution_count": null,
      "outputs": [
        {
          "output_type": "execute_result",
          "data": {
            "text/plain": [
              "(array([1, 1, 1, 2, 2, 2, 3, 3, 3]), array([1, 2, 3, 1, 2, 3, 1, 2, 3]))"
            ]
          },
          "metadata": {},
          "execution_count": 84
        }
      ]
    },
    {
      "cell_type": "code",
      "source": [
        "np.random.randn(1,3)"
      ],
      "metadata": {
        "colab": {
          "base_uri": "https://localhost:8080/"
        },
        "id": "LTgqcTQzspfU",
        "outputId": "e56dc2b8-ec02-4189-90f9-f99974752aa3"
      },
      "execution_count": null,
      "outputs": [
        {
          "output_type": "execute_result",
          "data": {
            "text/plain": [
              "array([[0.57329165, 0.40000841, 0.13941905]])"
            ]
          },
          "metadata": {},
          "execution_count": 88
        }
      ]
    },
    {
      "cell_type": "code",
      "source": [
        "# 11. How to get the common items between two python numpy arrays?\n",
        "arr1=np.array([3,4,5,6])\n",
        "arr2=np.array([4,5,3,2])\n",
        "np.intersect1d(arr1,arr2)"
      ],
      "metadata": {
        "colab": {
          "base_uri": "https://localhost:8080/"
        },
        "id": "khJ0NOJTmYFQ",
        "outputId": "96ecc1d6-313c-4932-cf07-5c8e376ca5e5"
      },
      "execution_count": null,
      "outputs": [
        {
          "output_type": "execute_result",
          "data": {
            "text/plain": [
              "array([3, 4, 5])"
            ]
          },
          "metadata": {},
          "execution_count": 91
        }
      ]
    },
    {
      "cell_type": "code",
      "source": [
        "# 12. How to remove from one array those items that exist in another?\n",
        "np.setdiff1d(a,b)"
      ],
      "metadata": {
        "colab": {
          "base_uri": "https://localhost:8080/"
        },
        "id": "9n2pImymtN4t",
        "outputId": "ed0b87b1-4d30-4a87-da0d-24c962233aed"
      },
      "execution_count": null,
      "outputs": [
        {
          "output_type": "execute_result",
          "data": {
            "text/plain": [
              "array([1, 2, 3])"
            ]
          },
          "metadata": {},
          "execution_count": 93
        }
      ]
    },
    {
      "cell_type": "code",
      "source": [
        "# 13. How to get the positions where elements of two arrays match?\n",
        "np.where(arr1==arr2)"
      ],
      "metadata": {
        "colab": {
          "base_uri": "https://localhost:8080/"
        },
        "id": "NJyOOgMUt2m_",
        "outputId": "11846cf6-542c-4056-8cb1-59fe44c371ba"
      },
      "execution_count": null,
      "outputs": [
        {
          "output_type": "execute_result",
          "data": {
            "text/plain": [
              "(array([], dtype=int64),)"
            ]
          },
          "metadata": {},
          "execution_count": 94
        }
      ]
    },
    {
      "cell_type": "code",
      "source": [
        "# 14. How to extract all numbers between a given range from a numpy array?\n",
        "arr=np.array([2,5,3,89,4,10])\n",
        "arr[(arr>5) & (arr<15)]\n",
        "index=np.where((arr>5) & (arr<15))\n",
        "arr[index]"
      ],
      "metadata": {
        "colab": {
          "base_uri": "https://localhost:8080/"
        },
        "id": "bm30L6TruSv9",
        "outputId": "c90f1141-a57e-4344-baa6-434e11848277"
      },
      "execution_count": null,
      "outputs": [
        {
          "output_type": "execute_result",
          "data": {
            "text/plain": [
              "array([10])"
            ]
          },
          "metadata": {},
          "execution_count": 102
        }
      ]
    },
    {
      "cell_type": "code",
      "source": [
        "# 15. How to make a python function that handle s scalars to work on numpy arrays?\n",
        "def aorb(a,b):\n",
        "  return a if a>b else b\n",
        "\n",
        "new=np.vectorize(aorb,otypes=[float])\n",
        "new(arr1,arr2)\n"
      ],
      "metadata": {
        "colab": {
          "base_uri": "https://localhost:8080/"
        },
        "id": "eso_-RjFaeC6",
        "outputId": "0a1bafcd-5741-4092-fc6a-5243c68b5e77"
      },
      "execution_count": null,
      "outputs": [
        {
          "output_type": "execute_result",
          "data": {
            "text/plain": [
              "array([4, 5, 5, 6])"
            ]
          },
          "metadata": {},
          "execution_count": 109
        }
      ]
    },
    {
      "cell_type": "code",
      "source": [
        "# 16. How to swap two columns in a 2d numpy array?\n",
        "arr=np.arange(25).reshape(5,-1)\n",
        "print(arr)\n",
        "print(arr[:,[2,0,1]])"
      ],
      "metadata": {
        "colab": {
          "base_uri": "https://localhost:8080/"
        },
        "id": "jaQ6oZbZzHFP",
        "outputId": "488cf23d-143b-44ae-e871-c09e590487ff"
      },
      "execution_count": null,
      "outputs": [
        {
          "output_type": "stream",
          "name": "stdout",
          "text": [
            "[[ 0  1  2  3  4]\n",
            " [ 5  6  7  8  9]\n",
            " [10 11 12 13 14]\n",
            " [15 16 17 18 19]\n",
            " [20 21 22 23 24]]\n",
            "[[ 2  0  1]\n",
            " [ 7  5  6]\n",
            " [12 10 11]\n",
            " [17 15 16]\n",
            " [22 20 21]]\n"
          ]
        }
      ]
    },
    {
      "cell_type": "code",
      "source": [
        "# 17. How to swap two rows in a 2d numpy array?\n",
        "print(arr)\n",
        "arr[[3,1,0,2,4],:]"
      ],
      "metadata": {
        "colab": {
          "base_uri": "https://localhost:8080/"
        },
        "id": "-7U2dR1n0m5z",
        "outputId": "af6b8821-fd07-48d3-ac94-72e68822ae11"
      },
      "execution_count": null,
      "outputs": [
        {
          "output_type": "stream",
          "name": "stdout",
          "text": [
            "[[ 0  1  2  3  4]\n",
            " [ 5  6  7  8  9]\n",
            " [10 11 12 13 14]\n",
            " [15 16 17 18 19]\n",
            " [20 21 22 23 24]]\n"
          ]
        },
        {
          "output_type": "execute_result",
          "data": {
            "text/plain": [
              "array([[15, 16, 17, 18, 19],\n",
              "       [ 5,  6,  7,  8,  9],\n",
              "       [ 0,  1,  2,  3,  4],\n",
              "       [10, 11, 12, 13, 14],\n",
              "       [20, 21, 22, 23, 24]])"
            ]
          },
          "metadata": {},
          "execution_count": 142
        }
      ]
    },
    {
      "cell_type": "code",
      "source": [
        "arr[::-1]"
      ],
      "metadata": {
        "colab": {
          "base_uri": "https://localhost:8080/"
        },
        "id": "PhAmtJCA3dXQ",
        "outputId": "14c15c4c-6f3f-4621-ed5e-acf981293c56"
      },
      "execution_count": null,
      "outputs": [
        {
          "output_type": "execute_result",
          "data": {
            "text/plain": [
              "array([[20, 21, 22, 23, 24],\n",
              "       [15, 16, 17, 18, 19],\n",
              "       [10, 11, 12, 13, 14],\n",
              "       [ 5,  6,  7,  8,  9],\n",
              "       [ 0,  1,  2,  3,  4]])"
            ]
          },
          "metadata": {},
          "execution_count": 143
        }
      ]
    },
    {
      "cell_type": "code",
      "source": [
        "# 18. How to reverse the rows of a 2D array?\n",
        "arr[::-1]"
      ],
      "metadata": {
        "colab": {
          "base_uri": "https://localhost:8080/"
        },
        "id": "4XBK8Ajg02Th",
        "outputId": "cf912ff8-d1d1-4597-e3d4-cd5fe0a2dab3"
      },
      "execution_count": null,
      "outputs": [
        {
          "output_type": "execute_result",
          "data": {
            "text/plain": [
              "array([[24, 23, 22, 21, 20],\n",
              "       [19, 18, 17, 16, 15],\n",
              "       [14, 13, 12, 11, 10],\n",
              "       [ 9,  8,  7,  6,  5],\n",
              "       [ 4,  3,  2,  1,  0]])"
            ]
          },
          "metadata": {},
          "execution_count": 146
        }
      ]
    },
    {
      "cell_type": "code",
      "source": [
        "# how to change both rows and columns reverse\n",
        "arr[::-1,::-1]"
      ],
      "metadata": {
        "colab": {
          "base_uri": "https://localhost:8080/"
        },
        "id": "xrv-iCAG4Ic2",
        "outputId": "7613f3a4-f1d2-42c6-e250-c7a394bfaf18"
      },
      "execution_count": null,
      "outputs": [
        {
          "output_type": "execute_result",
          "data": {
            "text/plain": [
              "array([[24, 23, 22, 21, 20],\n",
              "       [19, 18, 17, 16, 15],\n",
              "       [14, 13, 12, 11, 10],\n",
              "       [ 9,  8,  7,  6,  5],\n",
              "       [ 4,  3,  2,  1,  0]])"
            ]
          },
          "metadata": {},
          "execution_count": 147
        }
      ]
    },
    {
      "cell_type": "code",
      "source": [
        "# 19. How to reverse the columns of a 2D array?\n",
        "arr[:,-1::-1]"
      ],
      "metadata": {
        "colab": {
          "base_uri": "https://localhost:8080/"
        },
        "id": "DTM-obEe1IQ_",
        "outputId": "0eee2f1d-1243-4952-9aa8-ed8ce1cf5edf"
      },
      "execution_count": null,
      "outputs": [
        {
          "output_type": "execute_result",
          "data": {
            "text/plain": [
              "array([[ 4,  3,  2,  1,  0],\n",
              "       [ 9,  8,  7,  6,  5],\n",
              "       [14, 13, 12, 11, 10],\n",
              "       [19, 18, 17, 16, 15],\n",
              "       [24, 23, 22, 21, 20]])"
            ]
          },
          "metadata": {},
          "execution_count": 128
        }
      ]
    },
    {
      "cell_type": "code",
      "source": [
        "# 20. How to create a 2D array containing random floats between 5 and 10?\n",
        "arr1=np.random.randint(low=5,high=10,size=(5,5)) # m3thod1\n",
        "print(arr1)\n",
        "arr2=np.random.uniform(5,10,size=(4,5))\n",
        "arr2"
      ],
      "metadata": {
        "colab": {
          "base_uri": "https://localhost:8080/"
        },
        "id": "sRnCksSMai4Y",
        "outputId": "b7cc9742-da93-4000-8569-4ce8b32f8b28"
      },
      "execution_count": null,
      "outputs": [
        {
          "output_type": "stream",
          "name": "stdout",
          "text": [
            "[[6 7 7 9 5]\n",
            " [9 5 6 9 8]\n",
            " [9 8 5 9 6]\n",
            " [6 9 9 6 5]\n",
            " [5 6 8 8 8]]\n"
          ]
        },
        {
          "output_type": "execute_result",
          "data": {
            "text/plain": [
              "array([[8.276, 5.006, 8.498, 7.522, 5.451],\n",
              "       [7.848, 9.867, 5.554, 6.424, 9.555],\n",
              "       [7.548, 9.263, 5.335, 8.159, 8.009],\n",
              "       [5.021, 6.968, 9.514, 8.738, 9.78 ]])"
            ]
          },
          "metadata": {},
          "execution_count": 177
        }
      ]
    },
    {
      "cell_type": "code",
      "source": [
        "import matplotlib.pyplot as plt\n",
        "import seaborn as sns"
      ],
      "metadata": {
        "id": "Q4CEg7i7AOTy"
      },
      "execution_count": null,
      "outputs": []
    },
    {
      "cell_type": "code",
      "source": [
        "# # np.random.rand()\n",
        "\n",
        "# # -----------Create an array of the given shape and populate it with random samples from a UNIFORM DISTRIBUTION over [0, 1).\n",
        "print(np.random.rand(3,4))\n",
        "print(\"   RANDOM.RAND (UNIFORM DISTRIBUITON)  \")\n",
        "plt.hist(np.random.rand(100,100))\n",
        "plt.show()\n",
        "# # [[0.153 0.095 0.793 0.112]\n",
        "# #  [0.359 0.152 0.288 0.367]\n",
        "# #  [0.804 0.589 0.518 0.923]]\n",
        "# #-------------------------------------------------------------\n",
        "\n",
        "\n",
        "# # np.random.randn()\n",
        "# # -----------Create an array of the given shape and populate it with random samples from a NORMAL DISTRIBUTION over [0, 1).\n",
        "print(\"   RANDOM.RANDN  (NORMAL DISTRIBUTION)   \")\n",
        "plt.hist(np.random.randn(100,100))\n",
        "plt.show()\n",
        "# # ----------------------------------------------------------------\n",
        "\n",
        "\n",
        "# # np.random.randint()\n",
        "# # Return random integers from the “DISCRETE UNIFORM” distribution of the specified dtype in the “half-open” interval [low, high). If high is None (the default), then results are from [0, low).\n",
        "print('    RANDOM.RANDINT    (DISCRETE UNIFORM DISTRIBUTION)   ')\n",
        "plt.hist(np.random.randint(low=0,high=100,size=(100,100)))\n",
        "plt.show()\n",
        "# #-----------------------------------------------------------------------\n",
        "\n",
        "# random.random_sample(size=None)\n",
        "# Return random floats in the half-open interval [0.0, 1.0).\n",
        "\n",
        "# Results are from the “CONTINUOUS UNIFORM distribution over the stated interval. To sample  multiply the output of random_sample by (b-a) and add a:\n",
        "print('    RANDOM.RANDINT    (CONTINUOUS UNIFORM DISTRIBUTION)   ')\n",
        "\n",
        "plt.hist(np.random.random_sample((10,10)))\n",
        "plt.show()\n",
        "#------------------------------------------------------------------------\n",
        "\n",
        "\n",
        "\n",
        "# np.random.random(size=None)\n",
        "# Return random floats in the half-open interval [0.0, 1.0). Alias for random_sample to ease forward-porting to the new random API.\n",
        "print('\\nnp.random.random((3,4))\\n',np.random.random((3,4)))\n",
        "plt.hist(np.random.random((100,100)))\n",
        "plt.show()\n",
        "\n",
        "\n",
        "#-------------------------------------------------------------------------------------------\n",
        "# np.random.uniform()\n",
        "# Samples are uniformly distributed over the half-open interval [low, high) (includes low, but excludes high). In other words, any value within the given interval is equally likely to be drawn by uniform.\n",
        "print(' np.random.uniform(low,high,size=()  UNIFORM DISTRIBUTION')\n",
        "plt.hist(np.random.uniform(low=10,high=100,size=(100,100)))\n",
        "plt.show()\n",
        "# np.random.triangular()\n",
        "\n",
        "plt.hist(np.random.vonmisses())"
      ],
      "metadata": {
        "colab": {
          "base_uri": "https://localhost:8080/",
          "height": 1000
        },
        "id": "IoI9JCuF7sCX",
        "outputId": "c84cf2c4-9247-4c45-97a7-d213fff29179"
      },
      "execution_count": 233,
      "outputs": [
        {
          "output_type": "stream",
          "name": "stdout",
          "text": [
            "[[0.703 0.33  0.895 0.023]\n",
            " [0.449 0.372 0.056 0.734]\n",
            " [0.659 0.457 0.312 0.873]]\n",
            "   RANDOM.RAND (UNIFORM DISTRIBUITON)  \n"
          ]
        },
        {
          "output_type": "display_data",
          "data": {
            "text/plain": [
              "<Figure size 432x288 with 1 Axes>"
            ],
            "image/png": "[encoded data removed]"
          },
          "metadata": {
            "needs_background": "light"
          }
        },
        {
          "output_type": "stream",
          "name": "stdout",
          "text": [
            "   RANDOM.RANDN  (NORMAL DISTRIBUTION)   \n"
          ]
        },
        {
          "output_type": "display_data",
          "data": {
            "text/plain": [
              "<Figure size 432x288 with 1 Axes>"
            ],
            "image/png": "[encoded data removed]"
          },
          "metadata": {
            "needs_background": "light"
          }
        },
        {
          "output_type": "stream",
          "name": "stdout",
          "text": [
            "    RANDOM.RANDINT    (DISCRETE UNIFORM DISTRIBUTION)   \n"
          ]
        },
        {
          "output_type": "display_data",
          "data": {
            "text/plain": [
              "<Figure size 432x288 with 1 Axes>"
            ],
            "image/png": "[encoded data removed]"
          },
          "metadata": {
            "needs_background": "light"
          }
        },
        {
          "output_type": "stream",
          "name": "stdout",
          "text": [
            "    RANDOM.RANDINT    (CONTINUOUS UNIFORM DISTRIBUTION)   \n"
          ]
        },
        {
          "output_type": "display_data",
          "data": {
            "text/plain": [
              "<Figure size 432x288 with 1 Axes>"
            ],
            "image/png": "[encoded data removed]"
          },
          "metadata": {
            "needs_background": "light"
          }
        },
        {
          "output_type": "stream",
          "name": "stdout",
          "text": [
            "\n",
            "np.random.random((3,4))\n",
            " [[0.41  0.358 0.924 0.364]\n",
            " [0.841 0.902 0.259 0.26 ]\n",
            " [0.114 0.656 0.143 0.051]]\n"
          ]
        },
        {
          "output_type": "display_data",
          "data": {
            "text/plain": [
              "<Figure size 432x288 with 1 Axes>"
            ],
            "image/png": "[encoded data removed]"
          },
          "metadata": {
            "needs_background": "light"
          }
        },
        {
          "output_type": "stream",
          "name": "stdout",
          "text": [
            " np.random.uniform(low,high,size=()  UNIFORM DISTRIBUTION\n"
          ]
        },
        {
          "output_type": "display_data",
          "data": {
            "text/plain": [
              "<Figure size 432x288 with 1 Axes>"
            ],
            "image/png": "[encoded data removed]"
          },
          "metadata": {
            "needs_background": "light"
          }
        }
      ]
    },
    {
      "cell_type": "code",
      "source": [
        "plt.hist(np.random.rayleigh(8, 100000), bins=2000, density=True)\n",
        "plt.show()"
      ],
      "metadata": {
        "colab": {
          "base_uri": "https://localhost:8080/",
          "height": 265
        },
        "id": "wV5wXSx5_mwq",
        "outputId": "1efe0e76-8716-4af4-f54b-d7d6767b6f68"
      },
      "execution_count": null,
      "outputs": [
        {
          "output_type": "display_data",
          "data": {
            "text/plain": [
              "<Figure size 432x288 with 1 Axes>"
            ],
            "image/png": "[encoded data removed]"
          },
          "metadata": {
            "needs_background": "light"
          }
        }
      ]
    },
    {
      "cell_type": "code",
      "source": [
        "# 21. How to print only 3 decimal places in python numpy array?\n",
        "arr=np.array([2.9,3,4],dtype=float)\n",
        "np.set_printoptions(precision=3)\n",
        "arr\n"
      ],
      "metadata": {
        "colab": {
          "base_uri": "https://localhost:8080/"
        },
        "id": "UrGiSSTr2p_J",
        "outputId": "f9c76627-2802-450b-f9f8-cf6462dab7df"
      },
      "execution_count": null,
      "outputs": [
        {
          "output_type": "execute_result",
          "data": {
            "text/plain": [
              "array([2.9, 3. , 4. ])"
            ]
          },
          "metadata": {},
          "execution_count": 193
        }
      ]
    },
    {
      "cell_type": "code",
      "source": [
        "# 22. How to pretty print a numpy array by suppressing the scientific notation (like 1e10)?\n",
        "arr=np.random.random((3,3))/3e4\n",
        "np.set_printoptions(precision=5,suppress=True)\n",
        "arr\n"
      ],
      "metadata": {
        "id": "opUJ7ngO5d08",
        "colab": {
          "base_uri": "https://localhost:8080/"
        },
        "outputId": "79303365-31c9-4d47-d56b-7927ca10635e"
      },
      "execution_count": 244,
      "outputs": [
        {
          "output_type": "execute_result",
          "data": {
            "text/plain": [
              "array([[0.00001, 0.00003, 0.00001],\n",
              "       [0.00003, 0.00002, 0.00001],\n",
              "       [0.00003, 0.00002, 0.00002]])"
            ]
          },
          "metadata": {},
          "execution_count": 244
        }
      ]
    },
    {
      "cell_type": "code",
      "source": [
        "# 23. How to limit the number of items printed in output of numpy array?\n",
        "import sys\n",
        "np.set_printoptions(threshold=6)\n",
        "a=np.arange(100)\n",
        "print(a)"
      ],
      "metadata": {
        "id": "R-37r6Nn5gxC",
        "colab": {
          "base_uri": "https://localhost:8080/"
        },
        "outputId": "eda04317-dd6f-4eed-9255-cd63bb1f0f8f"
      },
      "execution_count": 262,
      "outputs": [
        {
          "output_type": "stream",
          "name": "stdout",
          "text": [
            "[ 0  1  2 ... 97 98 99]\n"
          ]
        }
      ]
    },
    {
      "cell_type": "code",
      "source": [
        "# 24. How to print the full numpy array without truncating\n",
        "import sys\n",
        "np.set_printoptions(threshold=sys.maxsize)\n",
        "a=np.arange(10000)\n",
        "print(a)\n",
        "\n",
        "# method 2\n",
        "np.set_printoptions(threshold=sys.maxsize)  # or we can use ( threshold=np.nan )\n",
        "a=np.arange(100000)\n",
        "print(a)"
      ],
      "metadata": {
        "id": "bjkJVWOHSGGw",
        "colab": {
          "base_uri": "https://localhost:8080/"
        },
        "outputId": "98d3b07b-952a-4ad9-9330-0d8531a805b1"
      },
      "execution_count": null,
      "outputs": [
        {
          "output_type": "execute_result",
          "data": {
            "text/plain": [
              "array([   0,    1,    2, ..., 2997, 2998, 2999])"
            ]
          },
          "metadata": {},
          "execution_count": 156
        }
      ]
    },
    {
      "cell_type": "code",
      "source": [
        "# 25. How to import a dataset with numbers and texts keeping the text intact in python numpy?\n",
        "\n",
        "url = 'https://archive.ics.uci.edu/ml/machine-learning-databases/iris/iris.data'\n",
        "iris=np.genfromtxt(url,delimiter=',',dtype=None)"
      ],
      "metadata": {
        "colab": {
          "base_uri": "https://localhost:8080/"
        },
        "id": "JR4pBbITfIN7",
        "outputId": "83f94379-3207-4b37-b8e5-81f5144f52c8"
      },
      "execution_count": 266,
      "outputs": [
        {
          "output_type": "stream",
          "name": "stderr",
          "text": [
            "<ipython-input-266-cfb0e7e0f5c0>:4: VisibleDeprecationWarning: Reading unicode strings without specifying the encoding argument is deprecated. Set the encoding, use None for the system default.\n",
            "  iris=np.genfromtxt(url,delimiter=',',dtype=None)\n"
          ]
        }
      ]
    },
    {
      "cell_type": "code",
      "source": [
        "# 26. How to extract a particular column from 1D array of tuples?\n",
        "iris=np.genfromtxt(url,delimiter=',',dtype='object')\n",
        "arr=np.array([row[4] for row in iris])\n",
        "print(arr)"
      ],
      "metadata": {
        "colab": {
          "base_uri": "https://localhost:8080/"
        },
        "id": "FSV0h0m6g2gg",
        "outputId": "d12441b7-8425-4c11-98f8-3b7f31686ea5"
      },
      "execution_count": 276,
      "outputs": [
        {
          "output_type": "stream",
          "name": "stdout",
          "text": [
            "[b'Iris-setosa' b'Iris-setosa' b'Iris-setosa' ... b'Iris-virginica'\n",
            " b'Iris-virginica' b'Iris-virginica']\n"
          ]
        }
      ]
    },
    {
      "cell_type": "code",
      "source": [
        "# 27. How to convert a 1d array of tuples to a 2d numpy array?\n",
        "iris=np.genfromtxt(url,delimiter=',',dtype='object')\n",
        "\n",
        "# method 1\n",
        "arr=np.array([np.array(x) for x in iris])\n",
        "print(arr)\n",
        "\n",
        "# method2\n",
        "print(iris[:3])\n",
        "arr=np.array([x.tolist()[:4] for x in iris])\n",
        "for i in arr:\n",
        "  print(i)\n",
        "\n",
        "# method3\n",
        "arr=np.genfromtxt(url,delimiter=',',dtype=float,usecols=[0,1,2,3])\n",
        "arr.shape"
      ],
      "metadata": {
        "colab": {
          "base_uri": "https://localhost:8080/"
        },
        "id": "_PmTxJt2jt3B",
        "outputId": "c85ec2c6-f3d9-4236-9681-61a458dd3f5a"
      },
      "execution_count": 299,
      "outputs": [
        {
          "output_type": "stream",
          "name": "stdout",
          "text": [
            "[[b'5.1' b'3.5' b'1.4' b'0.2' b'Iris-setosa']\n",
            " [b'4.9' b'3.0' b'1.4' b'0.2' b'Iris-setosa']\n",
            " [b'4.7' b'3.2' b'1.3' b'0.2' b'Iris-setosa']\n",
            " ...\n",
            " [b'6.5' b'3.0' b'5.2' b'2.0' b'Iris-virginica']\n",
            " [b'6.2' b'3.4' b'5.4' b'2.3' b'Iris-virginica']\n",
            " [b'5.9' b'3.0' b'5.1' b'1.8' b'Iris-virginica']]\n",
            "[[b'5.1' b'3.5' b'1.4' b'0.2' b'Iris-setosa']\n",
            " [b'4.9' b'3.0' b'1.4' b'0.2' b'Iris-setosa']\n",
            " [b'4.7' b'3.2' b'1.3' b'0.2' b'Iris-setosa']]\n",
            "[b'5.1' b'3.5' b'1.4' b'0.2']\n",
            "[b'4.9' b'3.0' b'1.4' b'0.2']\n",
            "[b'4.7' b'3.2' b'1.3' b'0.2']\n",
            "[b'4.6' b'3.1' b'1.5' b'0.2']\n",
            "[b'5.0' b'3.6' b'1.4' b'0.2']\n",
            "[b'5.4' b'3.9' b'1.7' b'0.4']\n",
            "[b'4.6' b'3.4' b'1.4' b'0.3']\n",
            "[b'5.0' b'3.4' b'1.5' b'0.2']\n",
            "[b'4.4' b'2.9' b'1.4' b'0.2']\n",
            "[b'4.9' b'3.1' b'1.5' b'0.1']\n",
            "[b'5.4' b'3.7' b'1.5' b'0.2']\n",
            "[b'4.8' b'3.4' b'1.6' b'0.2']\n",
            "[b'4.8' b'3.0' b'1.4' b'0.1']\n",
            "[b'4.3' b'3.0' b'1.1' b'0.1']\n",
            "[b'5.8' b'4.0' b'1.2' b'0.2']\n",
            "[b'5.7' b'4.4' b'1.5' b'0.4']\n",
            "[b'5.4' b'3.9' b'1.3' b'0.4']\n",
            "[b'5.1' b'3.5' b'1.4' b'0.3']\n",
            "[b'5.7' b'3.8' b'1.7' b'0.3']\n",
            "[b'5.1' b'3.8' b'1.5' b'0.3']\n",
            "[b'5.4' b'3.4' b'1.7' b'0.2']\n",
            "[b'5.1' b'3.7' b'1.5' b'0.4']\n",
            "[b'4.6' b'3.6' b'1.0' b'0.2']\n",
            "[b'5.1' b'3.3' b'1.7' b'0.5']\n",
            "[b'4.8' b'3.4' b'1.9' b'0.2']\n",
            "[b'5.0' b'3.0' b'1.6' b'0.2']\n",
            "[b'5.0' b'3.4' b'1.6' b'0.4']\n",
            "[b'5.2' b'3.5' b'1.5' b'0.2']\n",
            "[b'5.2' b'3.4' b'1.4' b'0.2']\n",
            "[b'4.7' b'3.2' b'1.6' b'0.2']\n",
            "[b'4.8' b'3.1' b'1.6' b'0.2']\n",
            "[b'5.4' b'3.4' b'1.5' b'0.4']\n",
            "[b'5.2' b'4.1' b'1.5' b'0.1']\n",
            "[b'5.5' b'4.2' b'1.4' b'0.2']\n",
            "[b'4.9' b'3.1' b'1.5' b'0.1']\n",
            "[b'5.0' b'3.2' b'1.2' b'0.2']\n",
            "[b'5.5' b'3.5' b'1.3' b'0.2']\n",
            "[b'4.9' b'3.1' b'1.5' b'0.1']\n",
            "[b'4.4' b'3.0' b'1.3' b'0.2']\n",
            "[b'5.1' b'3.4' b'1.5' b'0.2']\n",
            "[b'5.0' b'3.5' b'1.3' b'0.3']\n",
            "[b'4.5' b'2.3' b'1.3' b'0.3']\n",
            "[b'4.4' b'3.2' b'1.3' b'0.2']\n",
            "[b'5.0' b'3.5' b'1.6' b'0.6']\n",
            "[b'5.1' b'3.8' b'1.9' b'0.4']\n",
            "[b'4.8' b'3.0' b'1.4' b'0.3']\n",
            "[b'5.1' b'3.8' b'1.6' b'0.2']\n",
            "[b'4.6' b'3.2' b'1.4' b'0.2']\n",
            "[b'5.3' b'3.7' b'1.5' b'0.2']\n",
            "[b'5.0' b'3.3' b'1.4' b'0.2']\n",
            "[b'7.0' b'3.2' b'4.7' b'1.4']\n",
            "[b'6.4' b'3.2' b'4.5' b'1.5']\n",
            "[b'6.9' b'3.1' b'4.9' b'1.5']\n",
            "[b'5.5' b'2.3' b'4.0' b'1.3']\n",
            "[b'6.5' b'2.8' b'4.6' b'1.5']\n",
            "[b'5.7' b'2.8' b'4.5' b'1.3']\n",
            "[b'6.3' b'3.3' b'4.7' b'1.6']\n",
            "[b'4.9' b'2.4' b'3.3' b'1.0']\n",
            "[b'6.6' b'2.9' b'4.6' b'1.3']\n",
            "[b'5.2' b'2.7' b'3.9' b'1.4']\n",
            "[b'5.0' b'2.0' b'3.5' b'1.0']\n",
            "[b'5.9' b'3.0' b'4.2' b'1.5']\n",
            "[b'6.0' b'2.2' b'4.0' b'1.0']\n",
            "[b'6.1' b'2.9' b'4.7' b'1.4']\n",
            "[b'5.6' b'2.9' b'3.6' b'1.3']\n",
            "[b'6.7' b'3.1' b'4.4' b'1.4']\n",
            "[b'5.6' b'3.0' b'4.5' b'1.5']\n",
            "[b'5.8' b'2.7' b'4.1' b'1.0']\n",
            "[b'6.2' b'2.2' b'4.5' b'1.5']\n",
            "[b'5.6' b'2.5' b'3.9' b'1.1']\n",
            "[b'5.9' b'3.2' b'4.8' b'1.8']\n",
            "[b'6.1' b'2.8' b'4.0' b'1.3']\n",
            "[b'6.3' b'2.5' b'4.9' b'1.5']\n",
            "[b'6.1' b'2.8' b'4.7' b'1.2']\n",
            "[b'6.4' b'2.9' b'4.3' b'1.3']\n",
            "[b'6.6' b'3.0' b'4.4' b'1.4']\n",
            "[b'6.8' b'2.8' b'4.8' b'1.4']\n",
            "[b'6.7' b'3.0' b'5.0' b'1.7']\n",
            "[b'6.0' b'2.9' b'4.5' b'1.5']\n",
            "[b'5.7' b'2.6' b'3.5' b'1.0']\n",
            "[b'5.5' b'2.4' b'3.8' b'1.1']\n",
            "[b'5.5' b'2.4' b'3.7' b'1.0']\n",
            "[b'5.8' b'2.7' b'3.9' b'1.2']\n",
            "[b'6.0' b'2.7' b'5.1' b'1.6']\n",
            "[b'5.4' b'3.0' b'4.5' b'1.5']\n",
            "[b'6.0' b'3.4' b'4.5' b'1.6']\n",
            "[b'6.7' b'3.1' b'4.7' b'1.5']\n",
            "[b'6.3' b'2.3' b'4.4' b'1.3']\n",
            "[b'5.6' b'3.0' b'4.1' b'1.3']\n",
            "[b'5.5' b'2.5' b'4.0' b'1.3']\n",
            "[b'5.5' b'2.6' b'4.4' b'1.2']\n",
            "[b'6.1' b'3.0' b'4.6' b'1.4']\n",
            "[b'5.8' b'2.6' b'4.0' b'1.2']\n",
            "[b'5.0' b'2.3' b'3.3' b'1.0']\n",
            "[b'5.6' b'2.7' b'4.2' b'1.3']\n",
            "[b'5.7' b'3.0' b'4.2' b'1.2']\n",
            "[b'5.7' b'2.9' b'4.2' b'1.3']\n",
            "[b'6.2' b'2.9' b'4.3' b'1.3']\n",
            "[b'5.1' b'2.5' b'3.0' b'1.1']\n",
            "[b'5.7' b'2.8' b'4.1' b'1.3']\n",
            "[b'6.3' b'3.3' b'6.0' b'2.5']\n",
            "[b'5.8' b'2.7' b'5.1' b'1.9']\n",
            "[b'7.1' b'3.0' b'5.9' b'2.1']\n",
            "[b'6.3' b'2.9' b'5.6' b'1.8']\n",
            "[b'6.5' b'3.0' b'5.8' b'2.2']\n",
            "[b'7.6' b'3.0' b'6.6' b'2.1']\n",
            "[b'4.9' b'2.5' b'4.5' b'1.7']\n",
            "[b'7.3' b'2.9' b'6.3' b'1.8']\n",
            "[b'6.7' b'2.5' b'5.8' b'1.8']\n",
            "[b'7.2' b'3.6' b'6.1' b'2.5']\n",
            "[b'6.5' b'3.2' b'5.1' b'2.0']\n",
            "[b'6.4' b'2.7' b'5.3' b'1.9']\n",
            "[b'6.8' b'3.0' b'5.5' b'2.1']\n",
            "[b'5.7' b'2.5' b'5.0' b'2.0']\n",
            "[b'5.8' b'2.8' b'5.1' b'2.4']\n",
            "[b'6.4' b'3.2' b'5.3' b'2.3']\n",
            "[b'6.5' b'3.0' b'5.5' b'1.8']\n",
            "[b'7.7' b'3.8' b'6.7' b'2.2']\n",
            "[b'7.7' b'2.6' b'6.9' b'2.3']\n",
            "[b'6.0' b'2.2' b'5.0' b'1.5']\n",
            "[b'6.9' b'3.2' b'5.7' b'2.3']\n",
            "[b'5.6' b'2.8' b'4.9' b'2.0']\n",
            "[b'7.7' b'2.8' b'6.7' b'2.0']\n",
            "[b'6.3' b'2.7' b'4.9' b'1.8']\n",
            "[b'6.7' b'3.3' b'5.7' b'2.1']\n",
            "[b'7.2' b'3.2' b'6.0' b'1.8']\n",
            "[b'6.2' b'2.8' b'4.8' b'1.8']\n",
            "[b'6.1' b'3.0' b'4.9' b'1.8']\n",
            "[b'6.4' b'2.8' b'5.6' b'2.1']\n",
            "[b'7.2' b'3.0' b'5.8' b'1.6']\n",
            "[b'7.4' b'2.8' b'6.1' b'1.9']\n",
            "[b'7.9' b'3.8' b'6.4' b'2.0']\n",
            "[b'6.4' b'2.8' b'5.6' b'2.2']\n",
            "[b'6.3' b'2.8' b'5.1' b'1.5']\n",
            "[b'6.1' b'2.6' b'5.6' b'1.4']\n",
            "[b'7.7' b'3.0' b'6.1' b'2.3']\n",
            "[b'6.3' b'3.4' b'5.6' b'2.4']\n",
            "[b'6.4' b'3.1' b'5.5' b'1.8']\n",
            "[b'6.0' b'3.0' b'4.8' b'1.8']\n",
            "[b'6.9' b'3.1' b'5.4' b'2.1']\n",
            "[b'6.7' b'3.1' b'5.6' b'2.4']\n",
            "[b'6.9' b'3.1' b'5.1' b'2.3']\n",
            "[b'5.8' b'2.7' b'5.1' b'1.9']\n",
            "[b'6.8' b'3.2' b'5.9' b'2.3']\n",
            "[b'6.7' b'3.3' b'5.7' b'2.5']\n",
            "[b'6.7' b'3.0' b'5.2' b'2.3']\n",
            "[b'6.3' b'2.5' b'5.0' b'1.9']\n",
            "[b'6.5' b'3.0' b'5.2' b'2.0']\n",
            "[b'6.2' b'3.4' b'5.4' b'2.3']\n",
            "[b'5.9' b'3.0' b'5.1' b'1.8']\n"
          ]
        },
        {
          "output_type": "execute_result",
          "data": {
            "text/plain": [
              "(150, 4)"
            ]
          },
          "metadata": {},
          "execution_count": 299
        }
      ]
    },
    {
      "cell_type": "code",
      "source": [
        "# 28. How to compute the mean, median, standard deviation of a numpy array?\n",
        "print('mean',np.mean(arr),'\\nmedian',np.median(arr),'\\nstd',np.std(arr),'\\nvar',np.var(arr))"
      ],
      "metadata": {
        "colab": {
          "base_uri": "https://localhost:8080/"
        },
        "id": "DJdIGGb_mxNc",
        "outputId": "2c05e66f-2d18-4fd8-a8c8-2da5d62a57bd"
      },
      "execution_count": 304,
      "outputs": [
        {
          "output_type": "stream",
          "name": "stdout",
          "text": [
            "mean 3.4636666666666662 \n",
            "median 3.2 \n",
            "std 1.974000985027335 \n",
            "var 3.896679888888889\n"
          ]
        }
      ]
    },
    {
      "cell_type": "code",
      "source": [
        "# 29. How to normalize an array so the values range exactly between 0 and 1?\n",
        "arr=(arr-np.min(arr))/(np.max(arr)-np.min(arr))"
      ],
      "metadata": {
        "id": "U7URNEk0oQB6"
      },
      "execution_count": 305,
      "outputs": []
    },
    {
      "cell_type": "code",
      "source": [
        "arr"
      ],
      "metadata": {
        "colab": {
          "base_uri": "https://localhost:8080/"
        },
        "id": "fW_628HoolRG",
        "outputId": "9998d9af-f22a-4729-9712-a91a471d2f11"
      },
      "execution_count": 306,
      "outputs": [
        {
          "output_type": "execute_result",
          "data": {
            "text/plain": [
              "array([[0.64103, 0.4359 , 0.16667, 0.01282],\n",
              "       [0.61538, 0.37179, 0.16667, 0.01282],\n",
              "       [0.58974, 0.39744, 0.15385, 0.01282],\n",
              "       ...,\n",
              "       [0.82051, 0.37179, 0.65385, 0.24359],\n",
              "       [0.78205, 0.42308, 0.67949, 0.28205],\n",
              "       [0.74359, 0.37179, 0.64103, 0.21795]])"
            ]
          },
          "metadata": {},
          "execution_count": 306
        }
      ]
    },
    {
      "cell_type": "code",
      "source": [
        "# 30. How to compute the softmax score?\n",
        "new_arr=np.array([x[0] for x in arr])\n",
        "print(type(new_arr))\n",
        "new_arr1=new_arr-np.max(new_arr)\n",
        "softmax=new_arr1/new_arr1.sum()\n",
        "np.set_printoptions(threshold=sys.maxsize)\n",
        "softmax\n",
        "\n",
        "new_arr2=new_arr/new_arr.sum()\n",
        "new_arr2\n",
        "\n"
      ],
      "metadata": {
        "id": "oI-P3RYQSGO1",
        "colab": {
          "base_uri": "https://localhost:8080/"
        },
        "outputId": "f88814d6-3a37-4aeb-e8b9-5e433ae57ec0"
      },
      "execution_count": 318,
      "outputs": [
        {
          "output_type": "stream",
          "name": "stdout",
          "text": [
            "<class 'numpy.ndarray'>\n"
          ]
        },
        {
          "output_type": "execute_result",
          "data": {
            "text/plain": [
              "array([0.0058 , 0.00557, 0.00534, 0.00522, 0.00569, 0.00615, 0.00522,\n",
              "       0.00569, 0.00499, 0.00557, 0.00615, 0.00546, 0.00546, 0.00488,\n",
              "       0.00662, 0.0065 , 0.00615, 0.0058 , 0.0065 , 0.0058 , 0.00615,\n",
              "       0.0058 , 0.00522, 0.0058 , 0.00546, 0.00569, 0.00569, 0.00592,\n",
              "       0.00592, 0.00534, 0.00546, 0.00615, 0.00592, 0.00627, 0.00557,\n",
              "       0.00569, 0.00627, 0.00557, 0.00499, 0.0058 , 0.00569, 0.00511,\n",
              "       0.00499, 0.00569, 0.0058 , 0.00546, 0.0058 , 0.00522, 0.00604,\n",
              "       0.00569, 0.00801, 0.00731, 0.00789, 0.00627, 0.00743, 0.0065 ,\n",
              "       0.0072 , 0.00557, 0.00754, 0.00592, 0.00569, 0.00673, 0.00685,\n",
              "       0.00696, 0.00638, 0.00766, 0.00638, 0.00662, 0.00708, 0.00638,\n",
              "       0.00673, 0.00696, 0.0072 , 0.00696, 0.00731, 0.00754, 0.00778,\n",
              "       0.00766, 0.00685, 0.0065 , 0.00627, 0.00627, 0.00662, 0.00685,\n",
              "       0.00615, 0.00685, 0.00766, 0.0072 , 0.00638, 0.00627, 0.00627,\n",
              "       0.00696, 0.00662, 0.00569, 0.00638, 0.0065 , 0.0065 , 0.00708,\n",
              "       0.0058 , 0.0065 , 0.0072 , 0.00662, 0.00813, 0.0072 , 0.00743,\n",
              "       0.00871, 0.00557, 0.00836, 0.00766, 0.00824, 0.00743, 0.00731,\n",
              "       0.00778, 0.0065 , 0.00662, 0.00731, 0.00743, 0.00882, 0.00882,\n",
              "       0.00685, 0.00789, 0.00638, 0.00882, 0.0072 , 0.00766, 0.00824,\n",
              "       0.00708, 0.00696, 0.00731, 0.00824, 0.00847, 0.00905, 0.00731,\n",
              "       0.0072 , 0.00696, 0.00882, 0.0072 , 0.00731, 0.00685, 0.00789,\n",
              "       0.00766, 0.00789, 0.00662, 0.00778, 0.00766, 0.00766, 0.0072 ,\n",
              "       0.00743, 0.00708, 0.00673])"
            ]
          },
          "metadata": {},
          "execution_count": 318
        }
      ]
    },
    {
      "cell_type": "code",
      "source": [
        "# 31. How to find the percentile scores of a numpy array?\n",
        "np.percentile(arr,0),np.percentile(arr,25),np.percentile(arr,75),np.percentile(arr,100)"
      ],
      "metadata": {
        "id": "vmxaxe8NY9PV",
        "colab": {
          "base_uri": "https://localhost:8080/"
        },
        "outputId": "e4065aaf-fe1a-4947-d892-8b1c0cfd5a03"
      },
      "execution_count": 308,
      "outputs": [
        {
          "output_type": "execute_result",
          "data": {
            "text/plain": [
              "(0.0, 0.2051282051282051, 0.641025641025641, 1.0)"
            ]
          },
          "metadata": {},
          "execution_count": 308
        }
      ]
    },
    {
      "cell_type": "code",
      "source": [
        "import numpy as np"
      ],
      "metadata": {
        "id": "0FlG_O0MaB9h"
      },
      "execution_count": null,
      "outputs": []
    },
    {
      "cell_type": "code",
      "source": [
        "a=np.array([[1,2],[3,4]])\n",
        "b=np.array([[8,9],[7,6]])\n",
        "a[1],b[1]=b[1],a[1]\n",
        "a"
      ],
      "metadata": {
        "colab": {
          "base_uri": "https://localhost:8080/"
        },
        "id": "wIV2ROLGZvcM",
        "outputId": "65d34136-6bf9-4b50-c36c-08299e0521b0"
      },
      "execution_count": null,
      "outputs": [
        {
          "output_type": "execute_result",
          "data": {
            "text/plain": [
              "array([[1, 2],\n",
              "       [7, 6]])"
            ]
          },
          "metadata": {},
          "execution_count": 3
        }
      ]
    },
    {
      "cell_type": "code",
      "source": [],
      "metadata": {
        "id": "hRgATAYPZ-m1"
      },
      "execution_count": null,
      "outputs": []
    }
  ]
}